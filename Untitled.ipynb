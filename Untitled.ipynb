{
 "cells": [
  {
   "cell_type": "code",
   "execution_count": 14,
   "id": "joined-tooth",
   "metadata": {},
   "outputs": [
    {
     "name": "stdout",
     "output_type": "stream",
     "text": [
      "16271A05A1\n",
      "16271A05A2\n",
      "16271A05A3\n",
      "16271A05A4\n",
      "16271A05A5\n",
      "16271A05A6\n",
      "16271A05A7\n",
      "16271A05A8\n",
      "16271A05A9\n",
      "16271A05A10\n",
      "16271A05A11\n",
      "16271A05A12\n",
      "16271A05A13\n",
      "16271A05A14\n",
      "16271A05A15\n",
      "16271A05A16\n",
      "16271A05A17\n",
      "16271A05A18\n",
      "16271A05A19\n",
      "16271A05A110\n",
      "16271A05A111\n",
      "16271A05A112\n",
      "16271A05A113\n",
      "16271A05A114\n",
      "16271A05A115\n",
      "16271A05A116\n",
      "16271A05A117\n",
      "16271A05A118\n",
      "16271A05A119\n",
      "16271A05A1110\n",
      "16271A05A1111\n",
      "16271A05A1112\n",
      "16271A05A1113\n",
      "16271A05A1114\n",
      "16271A05A1115\n",
      "16271A05A1116\n",
      "16271A05A1117\n",
      "16271A05A1118\n",
      "16271A05A1119\n",
      "16271A05A11110\n",
      "16271A05A11111\n",
      "16271A05A11112\n",
      "16271A05A11113\n",
      "16271A05A11114\n",
      "16271A05A11115\n",
      "16271A05A11116\n",
      "16271A05A11117\n",
      "16271A05A11118\n",
      "16271A05A11119\n",
      "16271A05A111110\n",
      "16271A05A111111\n",
      "16271A05A111112\n",
      "16271A05A111113\n",
      "16271A05A111114\n",
      "16271A05A111115\n",
      "16271A05A111116\n",
      "16271A05A111117\n",
      "16271A05A111118\n",
      "16271A05A111119\n",
      "16271A05A1111110\n"
     ]
    }
   ],
   "source": [
    "# create a data where data of students of 4 different departments where each department has 3 sections each section has 60 students\n",
    "# students from 13,14,15,16,17,18,19,20,21 are taken\n",
    "a = '16271A05A0'\n",
    "# print(a[-3:])\n",
    "# print(a[:-3])\n",
    "for i in range(60):\n",
    "    check = int(a[-1:])\n",
    "    c = check+1\n",
    "    a = a[:-1]+str(c)\n",
    "    print(a)"
   ]
  },
  {
   "cell_type": "code",
   "execution_count": null,
   "id": "thick-knock",
   "metadata": {},
   "outputs": [],
   "source": []
  }
 ],
 "metadata": {
  "kernelspec": {
   "display_name": "Python 3",
   "language": "python",
   "name": "python3"
  },
  "language_info": {
   "codemirror_mode": {
    "name": "ipython",
    "version": 3
   },
   "file_extension": ".py",
   "mimetype": "text/x-python",
   "name": "python",
   "nbconvert_exporter": "python",
   "pygments_lexer": "ipython3",
   "version": "3.8.5"
  }
 },
 "nbformat": 4,
 "nbformat_minor": 5
}
